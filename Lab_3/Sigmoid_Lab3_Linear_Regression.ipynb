{
  "nbformat": 4,
  "nbformat_minor": 0,
  "metadata": {
    "colab": {
      "provenance": []
    },
    "kernelspec": {
      "name": "python3",
      "display_name": "Python 3"
    },
    "language_info": {
      "name": "python"
    }
  },
  "cells": [
    {
      "cell_type": "markdown",
      "source": [
        "# **The tasks:**\n",
        "\n",
        "In this task, I invite you to train 2 models on the selected Data Set that should predict the target column. The models are the following:\n",
        "\n",
        "- the LinearRegression from sklearn.\n",
        "- the Lin_reg implementation offered in SMLH.\n",
        "\n",
        "The tasks:\n",
        "\n",
        "- Create a jupyter notebook with a clean code.\n",
        "- Study the correlation between features and find the features subset with the highest correlation with the target column, and try to explain from the business point of view why they have such a big correlation.\n",
        "- Create a second set of data with the columns that have an absolute correlation between 0.5 and 0.8 with the target column.\n",
        "- Split the data into 2 sub-sets using the train_test_split function from sklearn.\n",
        "- Train a sklearn Linear Regression model on the data provided to you.\n",
        "- Train a from-scratch implementation of Linear Regression on the train sub-set.\n",
        "- Test the models on the test sets from the initial set of data, for error metrics use the models score function for the sklearn model.\n",
        "- Split the data with the selected columns into 2 sub-sets using the train_test_split function from sklearn.\n",
        "- Train a sklearn Linear Regression model on the data with selected columns (train subset).\n",
        "- Train a from-scratch implementation of Linear Regression on the train sub-set.\n",
        "- Test the models on the test sets from the initial set of data, for error metrics use the models score function for the sklearn model.\n",
        "- Please try to interpret the results that you are getting by comparing the error of the models that you created.\n",
        "- Please comment on your code."
      ],
      "metadata": {
        "id": "HupcgUv4HT88"
      }
    },
    {
      "cell_type": "code",
      "source": [
        "import pandas as pd\n",
        "import seaborn as sns\n",
        "import matplotlib.pyplot as plt\n",
        "from sklearn.preprocessing import LabelEncoder\n",
        "import numpy as np\n",
        "from sklearn.model_selection import train_test_split\n",
        "from sklearn.linear_model import LinearRegression\n"
      ],
      "metadata": {
        "id": "_2n-Ilo-SulQ"
      },
      "execution_count": 23,
      "outputs": []
    },
    {
      "cell_type": "code",
      "source": [
        "dt=pd.read_csv(\"Dataset.csv\")"
      ],
      "metadata": {
        "id": "_rsgS0J_TmXO"
      },
      "execution_count": 3,
      "outputs": []
    },
    {
      "cell_type": "code",
      "source": [
        "dt.describe()"
      ],
      "metadata": {
        "colab": {
          "base_uri": "https://localhost:8080/",
          "height": 355
        },
        "id": "370iQLv6U0kZ",
        "outputId": "700c790f-1c6e-457e-ae03-203ae61efd37"
      },
      "execution_count": 4,
      "outputs": [
        {
          "output_type": "execute_result",
          "data": {
            "text/plain": [
              "        Unnamed: 0           Id         year         price  \\\n",
              "count  1725.000000  1725.000000  1725.000000  1.725000e+03   \n",
              "mean    862.000000   862.000000  2015.390725  1.494837e+06   \n",
              "std     498.108924   498.108924     3.207504  1.671658e+06   \n",
              "min       0.000000     0.000000  1990.000000  6.250000e+04   \n",
              "25%     431.000000   431.000000  2013.000000  5.450000e+05   \n",
              "50%     862.000000   862.000000  2016.000000  8.750000e+05   \n",
              "75%    1293.000000  1293.000000  2018.000000  1.825000e+06   \n",
              "max    1724.000000  1724.000000  2021.000000  1.470000e+07   \n",
              "\n",
              "       distance_travelled(kms)   brand_rank      car_age  \\\n",
              "count              1725.000000  1725.000000  1725.000000   \n",
              "mean              53848.256232    15.731014     5.609275   \n",
              "std               44725.541963    12.951122     3.207504   \n",
              "min                 350.000000     1.000000     0.000000   \n",
              "25%               29000.000000     5.000000     3.000000   \n",
              "50%               49000.000000    14.000000     5.000000   \n",
              "75%               70500.000000    24.000000     8.000000   \n",
              "max              790000.000000    81.000000    31.000000   \n",
              "\n",
              "       distance below 30k km  new and less used  inv_car_price  inv_car_dist  \\\n",
              "count            1725.000000        1725.000000   1.725000e+03   1725.000000   \n",
              "mean                0.269565           0.209275   1.416237e-06      0.000041   \n",
              "std                 0.443863           0.406909   1.291449e-06      0.000110   \n",
              "min                 0.000000           0.000000   6.802721e-08      0.000001   \n",
              "25%                 0.000000           0.000000   5.479452e-07      0.000014   \n",
              "50%                 0.000000           0.000000   1.142857e-06      0.000020   \n",
              "75%                 1.000000           0.000000   1.834862e-06      0.000034   \n",
              "max                 1.000000           1.000000   1.600000e-05      0.002857   \n",
              "\n",
              "       inv_car_age    inv_brand  std_invprice  std_invdistance_travelled  \\\n",
              "count  1725.000000  1725.000000   1725.000000                1725.000000   \n",
              "mean           inf     0.187810      0.084623                   0.013809   \n",
              "std            NaN     0.254849      0.081060                   0.038689   \n",
              "min       0.032258     0.012346      0.000000                   0.000000   \n",
              "25%       0.125000     0.041667      0.030123                   0.004524   \n",
              "50%       0.200000     0.071429      0.067464                   0.006703   \n",
              "75%       0.333333     0.200000      0.110899                   0.011631   \n",
              "max            inf     1.000000      1.000000                   1.000000   \n",
              "\n",
              "       std_invrank    best_buy1    best_buy2  \n",
              "count  1725.000000  1725.000000  1725.000000  \n",
              "mean      0.177658    88.962902    32.537208  \n",
              "std       0.258034   188.950690   158.662274  \n",
              "min       0.000000     0.000000     0.000000  \n",
              "25%       0.029687    14.237358     0.000000  \n",
              "50%       0.059821    36.716166     0.000000  \n",
              "75%       0.190000    90.776658     0.000000  \n",
              "max       1.000000  2477.517640  2477.517640  "
            ],
            "text/html": [
              "\n",
              "  <div id=\"df-2c4040c6-4104-48c4-b895-c3956cba904d\" class=\"colab-df-container\">\n",
              "    <div>\n",
              "<style scoped>\n",
              "    .dataframe tbody tr th:only-of-type {\n",
              "        vertical-align: middle;\n",
              "    }\n",
              "\n",
              "    .dataframe tbody tr th {\n",
              "        vertical-align: top;\n",
              "    }\n",
              "\n",
              "    .dataframe thead th {\n",
              "        text-align: right;\n",
              "    }\n",
              "</style>\n",
              "<table border=\"1\" class=\"dataframe\">\n",
              "  <thead>\n",
              "    <tr style=\"text-align: right;\">\n",
              "      <th></th>\n",
              "      <th>Unnamed: 0</th>\n",
              "      <th>Id</th>\n",
              "      <th>year</th>\n",
              "      <th>price</th>\n",
              "      <th>distance_travelled(kms)</th>\n",
              "      <th>brand_rank</th>\n",
              "      <th>car_age</th>\n",
              "      <th>distance below 30k km</th>\n",
              "      <th>new and less used</th>\n",
              "      <th>inv_car_price</th>\n",
              "      <th>inv_car_dist</th>\n",
              "      <th>inv_car_age</th>\n",
              "      <th>inv_brand</th>\n",
              "      <th>std_invprice</th>\n",
              "      <th>std_invdistance_travelled</th>\n",
              "      <th>std_invrank</th>\n",
              "      <th>best_buy1</th>\n",
              "      <th>best_buy2</th>\n",
              "    </tr>\n",
              "  </thead>\n",
              "  <tbody>\n",
              "    <tr>\n",
              "      <th>count</th>\n",
              "      <td>1725.000000</td>\n",
              "      <td>1725.000000</td>\n",
              "      <td>1725.000000</td>\n",
              "      <td>1.725000e+03</td>\n",
              "      <td>1725.000000</td>\n",
              "      <td>1725.000000</td>\n",
              "      <td>1725.000000</td>\n",
              "      <td>1725.000000</td>\n",
              "      <td>1725.000000</td>\n",
              "      <td>1.725000e+03</td>\n",
              "      <td>1725.000000</td>\n",
              "      <td>1725.000000</td>\n",
              "      <td>1725.000000</td>\n",
              "      <td>1725.000000</td>\n",
              "      <td>1725.000000</td>\n",
              "      <td>1725.000000</td>\n",
              "      <td>1725.000000</td>\n",
              "      <td>1725.000000</td>\n",
              "    </tr>\n",
              "    <tr>\n",
              "      <th>mean</th>\n",
              "      <td>862.000000</td>\n",
              "      <td>862.000000</td>\n",
              "      <td>2015.390725</td>\n",
              "      <td>1.494837e+06</td>\n",
              "      <td>53848.256232</td>\n",
              "      <td>15.731014</td>\n",
              "      <td>5.609275</td>\n",
              "      <td>0.269565</td>\n",
              "      <td>0.209275</td>\n",
              "      <td>1.416237e-06</td>\n",
              "      <td>0.000041</td>\n",
              "      <td>inf</td>\n",
              "      <td>0.187810</td>\n",
              "      <td>0.084623</td>\n",
              "      <td>0.013809</td>\n",
              "      <td>0.177658</td>\n",
              "      <td>88.962902</td>\n",
              "      <td>32.537208</td>\n",
              "    </tr>\n",
              "    <tr>\n",
              "      <th>std</th>\n",
              "      <td>498.108924</td>\n",
              "      <td>498.108924</td>\n",
              "      <td>3.207504</td>\n",
              "      <td>1.671658e+06</td>\n",
              "      <td>44725.541963</td>\n",
              "      <td>12.951122</td>\n",
              "      <td>3.207504</td>\n",
              "      <td>0.443863</td>\n",
              "      <td>0.406909</td>\n",
              "      <td>1.291449e-06</td>\n",
              "      <td>0.000110</td>\n",
              "      <td>NaN</td>\n",
              "      <td>0.254849</td>\n",
              "      <td>0.081060</td>\n",
              "      <td>0.038689</td>\n",
              "      <td>0.258034</td>\n",
              "      <td>188.950690</td>\n",
              "      <td>158.662274</td>\n",
              "    </tr>\n",
              "    <tr>\n",
              "      <th>min</th>\n",
              "      <td>0.000000</td>\n",
              "      <td>0.000000</td>\n",
              "      <td>1990.000000</td>\n",
              "      <td>6.250000e+04</td>\n",
              "      <td>350.000000</td>\n",
              "      <td>1.000000</td>\n",
              "      <td>0.000000</td>\n",
              "      <td>0.000000</td>\n",
              "      <td>0.000000</td>\n",
              "      <td>6.802721e-08</td>\n",
              "      <td>0.000001</td>\n",
              "      <td>0.032258</td>\n",
              "      <td>0.012346</td>\n",
              "      <td>0.000000</td>\n",
              "      <td>0.000000</td>\n",
              "      <td>0.000000</td>\n",
              "      <td>0.000000</td>\n",
              "      <td>0.000000</td>\n",
              "    </tr>\n",
              "    <tr>\n",
              "      <th>25%</th>\n",
              "      <td>431.000000</td>\n",
              "      <td>431.000000</td>\n",
              "      <td>2013.000000</td>\n",
              "      <td>5.450000e+05</td>\n",
              "      <td>29000.000000</td>\n",
              "      <td>5.000000</td>\n",
              "      <td>3.000000</td>\n",
              "      <td>0.000000</td>\n",
              "      <td>0.000000</td>\n",
              "      <td>5.479452e-07</td>\n",
              "      <td>0.000014</td>\n",
              "      <td>0.125000</td>\n",
              "      <td>0.041667</td>\n",
              "      <td>0.030123</td>\n",
              "      <td>0.004524</td>\n",
              "      <td>0.029687</td>\n",
              "      <td>14.237358</td>\n",
              "      <td>0.000000</td>\n",
              "    </tr>\n",
              "    <tr>\n",
              "      <th>50%</th>\n",
              "      <td>862.000000</td>\n",
              "      <td>862.000000</td>\n",
              "      <td>2016.000000</td>\n",
              "      <td>8.750000e+05</td>\n",
              "      <td>49000.000000</td>\n",
              "      <td>14.000000</td>\n",
              "      <td>5.000000</td>\n",
              "      <td>0.000000</td>\n",
              "      <td>0.000000</td>\n",
              "      <td>1.142857e-06</td>\n",
              "      <td>0.000020</td>\n",
              "      <td>0.200000</td>\n",
              "      <td>0.071429</td>\n",
              "      <td>0.067464</td>\n",
              "      <td>0.006703</td>\n",
              "      <td>0.059821</td>\n",
              "      <td>36.716166</td>\n",
              "      <td>0.000000</td>\n",
              "    </tr>\n",
              "    <tr>\n",
              "      <th>75%</th>\n",
              "      <td>1293.000000</td>\n",
              "      <td>1293.000000</td>\n",
              "      <td>2018.000000</td>\n",
              "      <td>1.825000e+06</td>\n",
              "      <td>70500.000000</td>\n",
              "      <td>24.000000</td>\n",
              "      <td>8.000000</td>\n",
              "      <td>1.000000</td>\n",
              "      <td>0.000000</td>\n",
              "      <td>1.834862e-06</td>\n",
              "      <td>0.000034</td>\n",
              "      <td>0.333333</td>\n",
              "      <td>0.200000</td>\n",
              "      <td>0.110899</td>\n",
              "      <td>0.011631</td>\n",
              "      <td>0.190000</td>\n",
              "      <td>90.776658</td>\n",
              "      <td>0.000000</td>\n",
              "    </tr>\n",
              "    <tr>\n",
              "      <th>max</th>\n",
              "      <td>1724.000000</td>\n",
              "      <td>1724.000000</td>\n",
              "      <td>2021.000000</td>\n",
              "      <td>1.470000e+07</td>\n",
              "      <td>790000.000000</td>\n",
              "      <td>81.000000</td>\n",
              "      <td>31.000000</td>\n",
              "      <td>1.000000</td>\n",
              "      <td>1.000000</td>\n",
              "      <td>1.600000e-05</td>\n",
              "      <td>0.002857</td>\n",
              "      <td>inf</td>\n",
              "      <td>1.000000</td>\n",
              "      <td>1.000000</td>\n",
              "      <td>1.000000</td>\n",
              "      <td>1.000000</td>\n",
              "      <td>2477.517640</td>\n",
              "      <td>2477.517640</td>\n",
              "    </tr>\n",
              "  </tbody>\n",
              "</table>\n",
              "</div>\n",
              "    <div class=\"colab-df-buttons\">\n",
              "\n",
              "  <div class=\"colab-df-container\">\n",
              "    <button class=\"colab-df-convert\" onclick=\"convertToInteractive('df-2c4040c6-4104-48c4-b895-c3956cba904d')\"\n",
              "            title=\"Convert this dataframe to an interactive table.\"\n",
              "            style=\"display:none;\">\n",
              "\n",
              "  <svg xmlns=\"http://www.w3.org/2000/svg\" height=\"24px\" viewBox=\"0 -960 960 960\">\n",
              "    <path d=\"M120-120v-720h720v720H120Zm60-500h600v-160H180v160Zm220 220h160v-160H400v160Zm0 220h160v-160H400v160ZM180-400h160v-160H180v160Zm440 0h160v-160H620v160ZM180-180h160v-160H180v160Zm440 0h160v-160H620v160Z\"/>\n",
              "  </svg>\n",
              "    </button>\n",
              "\n",
              "  <style>\n",
              "    .colab-df-container {\n",
              "      display:flex;\n",
              "      gap: 12px;\n",
              "    }\n",
              "\n",
              "    .colab-df-convert {\n",
              "      background-color: #E8F0FE;\n",
              "      border: none;\n",
              "      border-radius: 50%;\n",
              "      cursor: pointer;\n",
              "      display: none;\n",
              "      fill: #1967D2;\n",
              "      height: 32px;\n",
              "      padding: 0 0 0 0;\n",
              "      width: 32px;\n",
              "    }\n",
              "\n",
              "    .colab-df-convert:hover {\n",
              "      background-color: #E2EBFA;\n",
              "      box-shadow: 0px 1px 2px rgba(60, 64, 67, 0.3), 0px 1px 3px 1px rgba(60, 64, 67, 0.15);\n",
              "      fill: #174EA6;\n",
              "    }\n",
              "\n",
              "    .colab-df-buttons div {\n",
              "      margin-bottom: 4px;\n",
              "    }\n",
              "\n",
              "    [theme=dark] .colab-df-convert {\n",
              "      background-color: #3B4455;\n",
              "      fill: #D2E3FC;\n",
              "    }\n",
              "\n",
              "    [theme=dark] .colab-df-convert:hover {\n",
              "      background-color: #434B5C;\n",
              "      box-shadow: 0px 1px 3px 1px rgba(0, 0, 0, 0.15);\n",
              "      filter: drop-shadow(0px 1px 2px rgba(0, 0, 0, 0.3));\n",
              "      fill: #FFFFFF;\n",
              "    }\n",
              "  </style>\n",
              "\n",
              "    <script>\n",
              "      const buttonEl =\n",
              "        document.querySelector('#df-2c4040c6-4104-48c4-b895-c3956cba904d button.colab-df-convert');\n",
              "      buttonEl.style.display =\n",
              "        google.colab.kernel.accessAllowed ? 'block' : 'none';\n",
              "\n",
              "      async function convertToInteractive(key) {\n",
              "        const element = document.querySelector('#df-2c4040c6-4104-48c4-b895-c3956cba904d');\n",
              "        const dataTable =\n",
              "          await google.colab.kernel.invokeFunction('convertToInteractive',\n",
              "                                                    [key], {});\n",
              "        if (!dataTable) return;\n",
              "\n",
              "        const docLinkHtml = 'Like what you see? Visit the ' +\n",
              "          '<a target=\"_blank\" href=https://colab.research.google.com/notebooks/data_table.ipynb>data table notebook</a>'\n",
              "          + ' to learn more about interactive tables.';\n",
              "        element.innerHTML = '';\n",
              "        dataTable['output_type'] = 'display_data';\n",
              "        await google.colab.output.renderOutput(dataTable, element);\n",
              "        const docLink = document.createElement('div');\n",
              "        docLink.innerHTML = docLinkHtml;\n",
              "        element.appendChild(docLink);\n",
              "      }\n",
              "    </script>\n",
              "  </div>\n",
              "\n",
              "\n",
              "    <div id=\"df-9624b705-3be9-488b-8d62-19114c85a682\">\n",
              "      <button class=\"colab-df-quickchart\" onclick=\"quickchart('df-9624b705-3be9-488b-8d62-19114c85a682')\"\n",
              "                title=\"Suggest charts\"\n",
              "                style=\"display:none;\">\n",
              "\n",
              "<svg xmlns=\"http://www.w3.org/2000/svg\" height=\"24px\"viewBox=\"0 0 24 24\"\n",
              "     width=\"24px\">\n",
              "    <g>\n",
              "        <path d=\"M19 3H5c-1.1 0-2 .9-2 2v14c0 1.1.9 2 2 2h14c1.1 0 2-.9 2-2V5c0-1.1-.9-2-2-2zM9 17H7v-7h2v7zm4 0h-2V7h2v10zm4 0h-2v-4h2v4z\"/>\n",
              "    </g>\n",
              "</svg>\n",
              "      </button>\n",
              "\n",
              "<style>\n",
              "  .colab-df-quickchart {\n",
              "      --bg-color: #E8F0FE;\n",
              "      --fill-color: #1967D2;\n",
              "      --hover-bg-color: #E2EBFA;\n",
              "      --hover-fill-color: #174EA6;\n",
              "      --disabled-fill-color: #AAA;\n",
              "      --disabled-bg-color: #DDD;\n",
              "  }\n",
              "\n",
              "  [theme=dark] .colab-df-quickchart {\n",
              "      --bg-color: #3B4455;\n",
              "      --fill-color: #D2E3FC;\n",
              "      --hover-bg-color: #434B5C;\n",
              "      --hover-fill-color: #FFFFFF;\n",
              "      --disabled-bg-color: #3B4455;\n",
              "      --disabled-fill-color: #666;\n",
              "  }\n",
              "\n",
              "  .colab-df-quickchart {\n",
              "    background-color: var(--bg-color);\n",
              "    border: none;\n",
              "    border-radius: 50%;\n",
              "    cursor: pointer;\n",
              "    display: none;\n",
              "    fill: var(--fill-color);\n",
              "    height: 32px;\n",
              "    padding: 0;\n",
              "    width: 32px;\n",
              "  }\n",
              "\n",
              "  .colab-df-quickchart:hover {\n",
              "    background-color: var(--hover-bg-color);\n",
              "    box-shadow: 0 1px 2px rgba(60, 64, 67, 0.3), 0 1px 3px 1px rgba(60, 64, 67, 0.15);\n",
              "    fill: var(--button-hover-fill-color);\n",
              "  }\n",
              "\n",
              "  .colab-df-quickchart-complete:disabled,\n",
              "  .colab-df-quickchart-complete:disabled:hover {\n",
              "    background-color: var(--disabled-bg-color);\n",
              "    fill: var(--disabled-fill-color);\n",
              "    box-shadow: none;\n",
              "  }\n",
              "\n",
              "  .colab-df-spinner {\n",
              "    border: 2px solid var(--fill-color);\n",
              "    border-color: transparent;\n",
              "    border-bottom-color: var(--fill-color);\n",
              "    animation:\n",
              "      spin 1s steps(1) infinite;\n",
              "  }\n",
              "\n",
              "  @keyframes spin {\n",
              "    0% {\n",
              "      border-color: transparent;\n",
              "      border-bottom-color: var(--fill-color);\n",
              "      border-left-color: var(--fill-color);\n",
              "    }\n",
              "    20% {\n",
              "      border-color: transparent;\n",
              "      border-left-color: var(--fill-color);\n",
              "      border-top-color: var(--fill-color);\n",
              "    }\n",
              "    30% {\n",
              "      border-color: transparent;\n",
              "      border-left-color: var(--fill-color);\n",
              "      border-top-color: var(--fill-color);\n",
              "      border-right-color: var(--fill-color);\n",
              "    }\n",
              "    40% {\n",
              "      border-color: transparent;\n",
              "      border-right-color: var(--fill-color);\n",
              "      border-top-color: var(--fill-color);\n",
              "    }\n",
              "    60% {\n",
              "      border-color: transparent;\n",
              "      border-right-color: var(--fill-color);\n",
              "    }\n",
              "    80% {\n",
              "      border-color: transparent;\n",
              "      border-right-color: var(--fill-color);\n",
              "      border-bottom-color: var(--fill-color);\n",
              "    }\n",
              "    90% {\n",
              "      border-color: transparent;\n",
              "      border-bottom-color: var(--fill-color);\n",
              "    }\n",
              "  }\n",
              "</style>\n",
              "\n",
              "      <script>\n",
              "        async function quickchart(key) {\n",
              "          const quickchartButtonEl =\n",
              "            document.querySelector('#' + key + ' button');\n",
              "          quickchartButtonEl.disabled = true;  // To prevent multiple clicks.\n",
              "          quickchartButtonEl.classList.add('colab-df-spinner');\n",
              "          try {\n",
              "            const charts = await google.colab.kernel.invokeFunction(\n",
              "                'suggestCharts', [key], {});\n",
              "          } catch (error) {\n",
              "            console.error('Error during call to suggestCharts:', error);\n",
              "          }\n",
              "          quickchartButtonEl.classList.remove('colab-df-spinner');\n",
              "          quickchartButtonEl.classList.add('colab-df-quickchart-complete');\n",
              "        }\n",
              "        (() => {\n",
              "          let quickchartButtonEl =\n",
              "            document.querySelector('#df-9624b705-3be9-488b-8d62-19114c85a682 button');\n",
              "          quickchartButtonEl.style.display =\n",
              "            google.colab.kernel.accessAllowed ? 'block' : 'none';\n",
              "        })();\n",
              "      </script>\n",
              "    </div>\n",
              "    </div>\n",
              "  </div>\n"
            ],
            "application/vnd.google.colaboratory.intrinsic+json": {
              "type": "dataframe",
              "repr_error": "Out of range float values are not JSON compliant: inf"
            }
          },
          "metadata": {},
          "execution_count": 4
        }
      ]
    },
    {
      "cell_type": "markdown",
      "source": [
        "Study the correlation between features and find the features subset with the highest correlation with the target column, and try to explain from the business point of view why they have such a big correlation."
      ],
      "metadata": {
        "id": "WaO3eS8ek6Xh"
      }
    },
    {
      "cell_type": "markdown",
      "source": [
        "I dropped all of the non numeric values\n"
      ],
      "metadata": {
        "id": "D7b_yZXkxd43"
      }
    },
    {
      "cell_type": "code",
      "source": [
        "numeric_dt = dt.select_dtypes(include=['number'])"
      ],
      "metadata": {
        "id": "g55xKEc-xbeY"
      },
      "execution_count": 5,
      "outputs": []
    },
    {
      "cell_type": "code",
      "source": [
        "correlations = numeric_dt.corr()['price'].drop('price').sort_values(key=abs, ascending=False)\n",
        "print(correlations)"
      ],
      "metadata": {
        "colab": {
          "base_uri": "https://localhost:8080/"
        },
        "id": "g8R3lHbrrv0v",
        "outputId": "3a44bdfc-d5b3-4418-e96b-3fe2546398ea"
      },
      "execution_count": 9,
      "outputs": [
        {
          "output_type": "stream",
          "name": "stdout",
          "text": [
            "std_invprice                -0.517723\n",
            "inv_car_price               -0.517723\n",
            "year                         0.288483\n",
            "car_age                     -0.288483\n",
            "inv_car_age                  0.267973\n",
            "new and less used            0.219786\n",
            "distance below 30k km        0.212197\n",
            "std_invrank                  0.185660\n",
            "inv_brand                    0.185660\n",
            "brand_rank                  -0.164591\n",
            "distance_travelled(kms)     -0.137351\n",
            "best_buy1                   -0.106855\n",
            "Unnamed: 0                  -0.105696\n",
            "Id                          -0.105696\n",
            "std_invdistance_travelled    0.081735\n",
            "inv_car_dist                 0.081735\n",
            "best_buy2                    0.008077\n",
            "Name: price, dtype: float64\n"
          ]
        }
      ]
    },
    {
      "cell_type": "markdown",
      "source": [
        "Create a second set of data with the columns that have an absolute correlation between 0.5 and 0.8 with the target column."
      ],
      "metadata": {
        "id": "TZQVaPV-lFAE"
      }
    },
    {
      "cell_type": "code",
      "source": [
        "high_corr_features = correlations[abs(correlations) > 0.8].index.tolist()\n",
        "moderate_corr_features = correlations[(abs(correlations) >= 0.5) & (abs(correlations) <= 0.8)].index.tolist()"
      ],
      "metadata": {
        "id": "4nJLffNUkzTm"
      },
      "execution_count": 10,
      "outputs": []
    },
    {
      "cell_type": "code",
      "source": [
        "dt_high_corr = numeric_dt[['price'] + high_corr_features]\n",
        "dt_moderate_corr = numeric_dt[['price'] + moderate_corr_features]"
      ],
      "metadata": {
        "id": "stWkJgWgyzNR"
      },
      "execution_count": 13,
      "outputs": []
    },
    {
      "cell_type": "markdown",
      "source": [
        "Im cleaning the data with replacing some Nan values"
      ],
      "metadata": {
        "id": "qe_ZoDIfzAXd"
      }
    },
    {
      "cell_type": "code",
      "source": [
        "def clean_data(X, y):\n",
        "    X = X.replace([np.inf, -np.inf], np.nan)\n",
        "    valid_idx = X.dropna().index\n",
        "    return X.loc[valid_idx], y.loc[valid_idx]"
      ],
      "metadata": {
        "id": "gh3KCgA6y_ir"
      },
      "execution_count": 14,
      "outputs": []
    },
    {
      "cell_type": "code",
      "source": [
        "class LinearRegressionScratch:\n",
        "    def fit(self, X, y):\n",
        "        X_b = np.c_[np.ones((X.shape[0], 1)), X]\n",
        "        self.theta = np.linalg.inv(X_b.T @ X_b) @ X_b.T @ y\n",
        "\n",
        "    def predict(self, X):\n",
        "        X_b = np.c_[np.ones((X.shape[0], 1)), X]\n",
        "        return X_b @ self.theta\n",
        "\n",
        "    def score(self, X, y):\n",
        "        y_pred = self.predict(X)\n",
        "        u = ((y - y_pred) ** 2).sum()\n",
        "        v = ((y - y.mean()) ** 2).sum()\n",
        "        return 1 - u / v"
      ],
      "metadata": {
        "id": "oh-kVtKizLSn"
      },
      "execution_count": 15,
      "outputs": []
    },
    {
      "cell_type": "markdown",
      "source": [
        "On a full dataset"
      ],
      "metadata": {
        "id": "b36jlW4AzuAE"
      }
    },
    {
      "cell_type": "code",
      "source": [
        "X_full = numeric_dt.drop(columns=['price'])\n",
        "y_full = numeric_dt['price']\n",
        "X_full, y_full = clean_data(X_full, y_full)"
      ],
      "metadata": {
        "id": "U647u3EFzrEV"
      },
      "execution_count": 21,
      "outputs": []
    },
    {
      "cell_type": "code",
      "source": [
        "X_train, X_test, y_train, y_test = train_test_split(X_full, y_full, test_size=0.2, random_state=42)"
      ],
      "metadata": {
        "id": "xr_hN1zJ0Mrm"
      },
      "execution_count": 24,
      "outputs": []
    },
    {
      "cell_type": "code",
      "source": [
        "model_sklearn = LinearRegression().fit(X_train, y_train)\n",
        "print(\"Full Data - sklearn R²:\", model_sklearn.score(X_test, y_test))"
      ],
      "metadata": {
        "colab": {
          "base_uri": "https://localhost:8080/"
        },
        "id": "44FKIzVX0_1P",
        "outputId": "cc4f2124-7781-4cf8-90c9-46c9d6c1d8fd"
      },
      "execution_count": 25,
      "outputs": [
        {
          "output_type": "stream",
          "name": "stdout",
          "text": [
            "Full Data - sklearn R²: 0.35263346000642215\n"
          ]
        }
      ]
    },
    {
      "cell_type": "markdown",
      "source": [
        "scratch model"
      ],
      "metadata": {
        "id": "mP8julG81HvZ"
      }
    },
    {
      "cell_type": "code",
      "source": [
        "model_scratch = LinearRegressionScratch()\n",
        "model_scratch.fit(X_train.values, y_train.values)\n",
        "print(\"Full Data - scratch R²:\", model_scratch.score(X_test.values, y_test.values))"
      ],
      "metadata": {
        "colab": {
          "base_uri": "https://localhost:8080/"
        },
        "id": "LRSo3bJA1FoT",
        "outputId": "f0fed8a8-590d-4688-bddf-ecb3e7939860"
      },
      "execution_count": 32,
      "outputs": [
        {
          "output_type": "stream",
          "name": "stdout",
          "text": [
            "Full Data - scratch R²: 0.35263346000642104\n"
          ]
        }
      ]
    },
    {
      "cell_type": "markdown",
      "source": [
        "Коррелированные признаки"
      ],
      "metadata": {
        "id": "XStZsXnh3zVA"
      }
    },
    {
      "cell_type": "code",
      "source": [
        "X_mod = df_moderate_corr.drop(columns=['price'])\n",
        "y_mod = df_moderate_corr['price']\n",
        "X_mod, y_mod = clean_data(X_mod, y_mod)\n",
        "\n",
        "X_train_mod, X_test_mod, y_train_mod, y_test_mod = train_test_split(X_mod, y_mod, test_size=0.2, random_state=42)"
      ],
      "metadata": {
        "id": "t3JS9Cb93yCj"
      },
      "execution_count": 33,
      "outputs": []
    },
    {
      "cell_type": "code",
      "source": [
        "# sklearn\n",
        "model_sklearn_mod = LinearRegression().fit(X_train_mod, y_train_mod)\n",
        "print(\"Moderate Corr - sklearn R²:\", model_sklearn_mod.score(X_test_mod, y_test_mod))"
      ],
      "metadata": {
        "colab": {
          "base_uri": "https://localhost:8080/"
        },
        "id": "BcbRkijR351O",
        "outputId": "155d0f31-8e7c-4150-ed73-0d1247f263db"
      },
      "execution_count": 34,
      "outputs": [
        {
          "output_type": "stream",
          "name": "stdout",
          "text": [
            "Moderate Corr - sklearn R²: 0.24782534492611974\n"
          ]
        }
      ]
    },
    {
      "cell_type": "code",
      "source": [
        "# с нуля scratch\n",
        "model_scratch_mod = LinearRegressionScratch()\n",
        "model_scratch_mod.fit(X_train_mod.values, y_train_mod.values)\n",
        "print(\"Moderate Corr - scratch R²:\", model_scratch_mod.score(X_test_mod.values, y_test_mod))"
      ],
      "metadata": {
        "colab": {
          "base_uri": "https://localhost:8080/"
        },
        "id": "mdqe326j38fm",
        "outputId": "67cbdc85-deca-489a-de70-9bc1acc4906d"
      },
      "execution_count": 35,
      "outputs": [
        {
          "output_type": "stream",
          "name": "stdout",
          "text": [
            "Moderate Corr - scratch R²: 0.24782534492611918\n"
          ]
        }
      ]
    }
  ]
}