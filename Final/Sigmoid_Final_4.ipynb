{
  "nbformat": 4,
  "nbformat_minor": 0,
  "metadata": {
    "colab": {
      "provenance": []
    },
    "kernelspec": {
      "name": "python3",
      "display_name": "Python 3"
    },
    "language_info": {
      "name": "python"
    }
  },
  "cells": [
    {
      "cell_type": "markdown",
      "source": [
        "Imports"
      ],
      "metadata": {
        "id": "PjrklGklSJO3"
      }
    },
    {
      "cell_type": "code",
      "execution_count": 2,
      "metadata": {
        "id": "2kcPJ5O9SE7S"
      },
      "outputs": [],
      "source": [
        "import os\n",
        "import numpy as np\n",
        "import pandas as pd\n",
        "import matplotlib.pyplot as plt\n",
        "import seaborn as sns\n",
        "from datetime import datetime\n",
        "\n",
        "\n",
        "from sklearn.model_selection import train_test_split, GridSearchCV, RandomizedSearchCV, cross_val_score\n",
        "from sklearn.pipeline import Pipeline\n",
        "from sklearn.compose import ColumnTransformer\n",
        "from sklearn.preprocessing import StandardScaler, OneHotEncoder, OrdinalEncoder, PolynomialFeatures\n",
        "from sklearn.impute import SimpleImputer\n",
        "from sklearn.linear_model import LinearRegression, LogisticRegression\n",
        "from sklearn.decomposition import PCA\n",
        "from sklearn.naive_bayes import GaussianNB\n",
        "from sklearn.ensemble import RandomForestRegressor, RandomForestClassifier\n",
        "from sklearn.svm import SVR, SVC\n",
        "from sklearn.metrics import mean_squared_error, r2_score, classification_report, confusion_matrix, roc_auc_score\n",
        "from sklearn.feature_selection import SelectKBest, f_regression, mutual_info_classif\n",
        "from sklearn.mixture import GaussianMixture\n",
        "from sklearn.cluster import KMeans\n",
        "from sklearn.ensemble import IsolationForest"
      ]
    },
    {
      "cell_type": "code",
      "source": [
        "try:\n",
        "  from imblearn.over_sampling import SMOTE\n",
        "except Exception:\n",
        "  SMOTE = None\n",
        "\n",
        "\n",
        "# SHAP\\LIME\n",
        "try:\n",
        "  import shap\n",
        "except Exception:\n",
        "  shap = None\n",
        "\n",
        "\n",
        "try:\n",
        "  import lime\n",
        "  import lime.lime_tabular\n",
        "except Exception:\n",
        "  lime = None\n",
        "\n",
        "\n",
        "#стиль графиков\n",
        "sns.set(style='whitegrid')"
      ],
      "metadata": {
        "id": "rkgvtOguStu1"
      },
      "execution_count": 3,
      "outputs": []
    },
    {
      "cell_type": "code",
      "source": [
        "import kagglehub\n",
        "\n",
        "# Download latest version\n",
        "path = kagglehub.dataset_download(\"sanjeetsinghnaik/used-car-information\")\n",
        "\n",
        "print(\"Path to dataset files:\", path)"
      ],
      "metadata": {
        "colab": {
          "base_uri": "https://localhost:8080/"
        },
        "id": "iq6c1C7vX3Mx",
        "outputId": "75d07ba0-dfaf-417a-e359-66d1b64fc078"
      },
      "execution_count": 4,
      "outputs": [
        {
          "output_type": "stream",
          "name": "stdout",
          "text": [
            "Warning: Looks like you're using an outdated `kagglehub` version (installed: 0.3.12), please consider upgrading to the latest version (0.3.13).\n",
            "Downloading from https://www.kaggle.com/api/v1/datasets/download/sanjeetsinghnaik/used-car-information?dataset_version_number=2...\n"
          ]
        },
        {
          "output_type": "stream",
          "name": "stderr",
          "text": [
            "100%|██████████| 176k/176k [00:00<00:00, 13.7MB/s]"
          ]
        },
        {
          "output_type": "stream",
          "name": "stdout",
          "text": [
            "Extracting files...\n",
            "Path to dataset files: /root/.cache/kagglehub/datasets/sanjeetsinghnaik/used-car-information/versions/2\n"
          ]
        },
        {
          "output_type": "stream",
          "name": "stderr",
          "text": [
            "\n"
          ]
        }
      ]
    },
    {
      "cell_type": "code",
      "source": [
        "import kagglehub\n",
        "from pathlib import Path\n",
        "csv_files = list(Path(path).rglob(\"*.csv\"))\n",
        "df = pd.read_csv(csv_files[0])"
      ],
      "metadata": {
        "id": "1Gpkh2X1YT6U"
      },
      "execution_count": 5,
      "outputs": []
    },
    {
      "cell_type": "code",
      "source": [
        "expected_cols = [\"Id\",\"year\",\"brand\",\"full_model_name\",\"model_name\",\"price\",\"distance_travelled(kms)\",\"fuel_type\",\"city\"]\n",
        "print('\\nОжидаемые колонки:\\n', expected_cols)\n",
        "print('\\nНайденные колонки:\\n', list(df.columns))\n",
        "\n",
        "df = df.rename(columns={\"distance_travelled(kms)\":\"distance_km\"})"
      ],
      "metadata": {
        "colab": {
          "base_uri": "https://localhost:8080/"
        },
        "id": "w-ASC8QZYa-k",
        "outputId": "d6f0addd-eaf5-4549-d302-a277e8e4e756"
      },
      "execution_count": 6,
      "outputs": [
        {
          "output_type": "stream",
          "name": "stdout",
          "text": [
            "\n",
            "Ожидаемые колонки:\n",
            " ['Id', 'year', 'brand', 'full_model_name', 'model_name', 'price', 'distance_travelled(kms)', 'fuel_type', 'city']\n",
            "\n",
            "Найденные колонки:\n",
            " ['Unnamed: 0', 'year', 'brand', 'full_model_name', 'model_name', 'price', 'distance_travelled(kms)', 'fuel_type', 'city']\n"
          ]
        }
      ]
    },
    {
      "cell_type": "code",
      "source": [
        "print('\\n--- Общая информация по DataFrame ---')\n",
        "print(df.info())\n",
        "\n",
        "\n",
        "print('\\n--- Описательная статистика ---')\n",
        "print(df.describe(include='all'))\n",
        "\n",
        "\n",
        "# Различные важные статистики\n",
        "print('\\nСредняя цена: ', df['price'].mean())\n",
        "print('Медианная цена: ', df['price'].median())\n",
        "\n",
        "\n",
        "print('\\nТоп-10 брендов по числу объявлений:')\n",
        "print(df['brand'].value_counts().head(10))\n",
        "\n",
        "\n",
        "print('\\nГрупповая статистика по бренду (цена):')\n",
        "print(df.groupby('brand')['price'].agg(['count','mean','median','std']).sort_values('count', ascending=False).head(10))"
      ],
      "metadata": {
        "colab": {
          "base_uri": "https://localhost:8080/"
        },
        "id": "c01z8VP7Yjav",
        "outputId": "b7346065-f82b-4e0c-ab0c-fb5786b93c62"
      },
      "execution_count": 7,
      "outputs": [
        {
          "output_type": "stream",
          "name": "stdout",
          "text": [
            "\n",
            "--- Общая информация по DataFrame ---\n",
            "<class 'pandas.core.frame.DataFrame'>\n",
            "RangeIndex: 247 entries, 0 to 246\n",
            "Data columns (total 9 columns):\n",
            " #   Column           Non-Null Count  Dtype  \n",
            "---  ------           --------------  -----  \n",
            " 0   Unnamed: 0       247 non-null    int64  \n",
            " 1   year             247 non-null    int64  \n",
            " 2   brand            247 non-null    object \n",
            " 3   full_model_name  247 non-null    object \n",
            " 4   model_name       247 non-null    object \n",
            " 5   price            247 non-null    float64\n",
            " 6   distance_km      247 non-null    float64\n",
            " 7   fuel_type        247 non-null    object \n",
            " 8   city             247 non-null    object \n",
            "dtypes: float64(2), int64(2), object(5)\n",
            "memory usage: 17.5+ KB\n",
            "None\n",
            "\n",
            "--- Описательная статистика ---\n",
            "        Unnamed: 0         year    brand  \\\n",
            "count    247.00000   247.000000      247   \n",
            "unique         NaN          NaN       21   \n",
            "top            NaN          NaN  Hyundai   \n",
            "freq           NaN          NaN       68   \n",
            "mean     123.00000  2016.101215      NaN   \n",
            "std       71.44695     2.604304      NaN   \n",
            "min        0.00000  2005.000000      NaN   \n",
            "25%       61.50000  2015.000000      NaN   \n",
            "50%      123.00000  2017.000000      NaN   \n",
            "75%      184.50000  2018.000000      NaN   \n",
            "max      246.00000  2021.000000      NaN   \n",
            "\n",
            "                                 full_model_name model_name         price  \\\n",
            "count                                        247        247  2.470000e+02   \n",
            "unique                                       155         74           NaN   \n",
            "top     Renault Kwid 1.0 RXT AMT Opt [2016-2019]      Creta           NaN   \n",
            "freq                                           5         18           NaN   \n",
            "mean                                         NaN        NaN  9.949798e+05   \n",
            "std                                          NaN        NaN  9.058314e+05   \n",
            "min                                          NaN        NaN  2.650000e+05   \n",
            "25%                                          NaN        NaN  5.450000e+05   \n",
            "50%                                          NaN        NaN  6.990000e+05   \n",
            "75%                                          NaN        NaN  1.120000e+06   \n",
            "max                                          NaN        NaN  6.600000e+06   \n",
            "\n",
            "          distance_km fuel_type       city  \n",
            "count      247.000000       247        247  \n",
            "unique            NaN         3          1  \n",
            "top               NaN    Petrol  Bangalore  \n",
            "freq              NaN       169        247  \n",
            "mean     45579.894737       NaN        NaN  \n",
            "std      26318.252595       NaN        NaN  \n",
            "min       2750.000000       NaN        NaN  \n",
            "25%      27878.500000       NaN        NaN  \n",
            "50%      43000.000000       NaN        NaN  \n",
            "75%      60279.500000       NaN        NaN  \n",
            "max     202000.000000       NaN        NaN  \n",
            "\n",
            "Средняя цена:  994979.7570850202\n",
            "Медианная цена:  699000.0\n",
            "\n",
            "Топ-10 брендов по числу объявлений:\n",
            "brand\n",
            "Hyundai          68\n",
            "Maruti Suzuki    54\n",
            "Renault          21\n",
            "Honda            19\n",
            "Mahindra         13\n",
            "Tata             13\n",
            "Toyota            9\n",
            "Volkswagen        9\n",
            "Skoda             7\n",
            "Mercedes-Benz     7\n",
            "Name: count, dtype: int64\n",
            "\n",
            "Групповая статистика по бренду (цена):\n",
            "               count          mean     median           std\n",
            "brand                                                      \n",
            "Hyundai           68  7.455588e+05   599000.0  3.676878e+05\n",
            "Maruti Suzuki     54  6.232778e+05   685000.0  1.784901e+05\n",
            "Renault           21  6.231905e+05   445000.0  2.580513e+05\n",
            "Honda             19  7.335789e+05   625000.0  3.144553e+05\n",
            "Mahindra          13  1.256923e+06  1425000.0  4.710119e+05\n",
            "Tata              13  6.861538e+05   590000.0  1.767431e+05\n",
            "Toyota             9  1.307222e+06  1115000.0  1.080888e+06\n",
            "Volkswagen         9  7.077778e+05   685000.0  1.109648e+05\n",
            "Skoda              7  1.038571e+06  1195000.0  3.245730e+05\n",
            "Mercedes-Benz      7  3.382143e+06  3975000.0  1.408509e+06\n"
          ]
        }
      ]
    },
    {
      "cell_type": "markdown",
      "source": [
        "Визуализация распределения цены"
      ],
      "metadata": {
        "id": "UgtBLjnjYzXK"
      }
    },
    {
      "cell_type": "code",
      "source": [
        "plt.figure(figsize=(10,5))\n",
        "plt.subplot(1,2,1)\n",
        "sns.histplot(df['price'].dropna(), bins=50, kde=True)\n",
        "plt.title('Распределение цены')\n",
        "plt.subplot(1,2,2)\n",
        "sns.boxplot(x=df['price'])\n",
        "plt.title('Boxplot цены')\n",
        "plt.show()"
      ],
      "metadata": {
        "colab": {
          "base_uri": "https://localhost:8080/",
          "height": 496
        },
        "id": "_WBcC7qXYyrw",
        "outputId": "543ee690-6ee5-400b-f418-a6861c539af2"
      },
      "execution_count": 8,
      "outputs": [
        {
          "output_type": "display_data",
          "data": {
            "text/plain": [
              "<Figure size 1000x500 with 2 Axes>"
            ],
            "image/png": "[encoded data removed]"
          },
          "metadata": {}
        }
      ]
    },
    {
      "cell_type": "code",
      "source": [
        "plt.figure(figsize=(10,4))\n",
        "plt.subplot(1,2,1)\n",
        "sns.histplot(df['distance_km'].dropna(), bins=50)\n",
        "plt.title('Пробег (км)')\n",
        "plt.subplot(1,2,2)\n",
        "sns.scatterplot(data=df.sample(min(1000,len(df))), x='distance_km', y='price')\n",
        "plt.title('Цена vs Пробег (выборка)')\n",
        "plt.show()"
      ],
      "metadata": {
        "colab": {
          "base_uri": "https://localhost:8080/",
          "height": 419
        },
        "id": "ouFq6j-PY1sR",
        "outputId": "cf1d9ba6-7380-4da3-cec4-49e9a042245f"
      },
      "execution_count": 9,
      "outputs": [
        {
          "output_type": "display_data",
          "data": {
            "text/plain": [
              "<Figure size 1000x400 with 2 Axes>"
            ],
            "image/png": "[encoded data removed]"
          },
          "metadata": {}
        }
      ]
    },
    {
      "cell_type": "code",
      "source": [
        "print('\\n--- NumPy: быстрый обзор ---')\n",
        "A = np.array([[1.0, 2.0], [3.0, 4.0]])\n",
        "b = np.array([1.0, 2.0])\n",
        "print('Матрица A:\\n', A)\n",
        "print('Вектор b:', b)\n",
        "print('Умножение A*b =', A.dot(b))\n",
        "\n",
        "\n",
        "#SVD\n",
        "vals, vecs = np.linalg.eig(A)\n",
        "print('Собственные значения A:', vals)\n",
        "U, S, VT = np.linalg.svd(A)\n",
        "print('SVD S:', S)"
      ],
      "metadata": {
        "colab": {
          "base_uri": "https://localhost:8080/"
        },
        "id": "fUpDte7BY7BI",
        "outputId": "d92ac7bd-b221-4b27-e28e-dc4a50dac850"
      },
      "execution_count": 10,
      "outputs": [
        {
          "output_type": "stream",
          "name": "stdout",
          "text": [
            "\n",
            "--- NumPy: быстрый обзор ---\n",
            "Матрица A:\n",
            " [[1. 2.]\n",
            " [3. 4.]]\n",
            "Вектор b: [1. 2.]\n",
            "Умножение A*b = [ 5. 11.]\n",
            "Собственные значения A: [-0.37228132  5.37228132]\n",
            "SVD S: [5.4649857  0.36596619]\n"
          ]
        }
      ]
    },
    {
      "cell_type": "markdown",
      "source": [
        "# **Feature Engineering**"
      ],
      "metadata": {
        "id": "-Vqf9d-IZDw7"
      }
    },
    {
      "cell_type": "code",
      "source": [
        "current_year = datetime.now().year\n",
        "if 'year' in df.columns:\n",
        "  df['age'] = current_year - df['year']\n",
        "\n",
        "\n",
        "\n",
        "df['price_log'] = np.log1p(df['price'].clip(lower=0))\n",
        "\n",
        "df['price_per_km'] = df['price'] / (df['distance_km'].replace(0, np.nan))\n",
        "\n",
        "\n",
        "top_brands = df['brand'].value_counts().nlargest(10).index\n",
        "df['brand_top'] = df['brand'].where(df['brand'].isin(top_brands), other='other')\n",
        "\n",
        "\n",
        "print('\\nПосле feature engineering, колонки:', df.columns.tolist())"
      ],
      "metadata": {
        "colab": {
          "base_uri": "https://localhost:8080/"
        },
        "id": "htKoh4HoZBYj",
        "outputId": "5b43a5ca-7ac2-4d4c-c940-3f56d1d2cae7"
      },
      "execution_count": 56,
      "outputs": [
        {
          "output_type": "stream",
          "name": "stdout",
          "text": [
            "\n",
            "После feature engineering, колонки: ['Unnamed: 0', 'year', 'brand', 'full_model_name', 'model_name', 'price', 'distance_km', 'fuel_type', 'city', 'age', 'price_log', 'price_per_km', 'brand_top', 'is_expensive']\n"
          ]
        }
      ]
    },
    {
      "cell_type": "markdown",
      "source": [
        "# Обработка пропусков"
      ],
      "metadata": {
        "id": "SiF8tK0OZS63"
      }
    },
    {
      "cell_type": "code",
      "source": [
        "print('\\n--- Пропуски по столбцам ---')\n",
        "print(df.isna().sum())\n",
        "\n",
        "\n",
        "num_cols = ['age','distance_km']\n",
        "cat_cols = ['brand_top','fuel_type','city']"
      ],
      "metadata": {
        "colab": {
          "base_uri": "https://localhost:8080/"
        },
        "id": "_GemRN_WZVq2",
        "outputId": "5d7f6b3e-c47a-44ec-bd2a-184cdb4a652b"
      },
      "execution_count": 12,
      "outputs": [
        {
          "output_type": "stream",
          "name": "stdout",
          "text": [
            "\n",
            "--- Пропуски по столбцам ---\n",
            "Unnamed: 0         0\n",
            "year               0\n",
            "brand              0\n",
            "full_model_name    0\n",
            "model_name         0\n",
            "price              0\n",
            "distance_km        0\n",
            "fuel_type          0\n",
            "city               0\n",
            "age                0\n",
            "price_log          0\n",
            "price_per_km       0\n",
            "brand_top          0\n",
            "dtype: int64\n"
          ]
        }
      ]
    },
    {
      "cell_type": "markdown",
      "source": [
        "Pipeline: Preprocessing + Model"
      ],
      "metadata": {
        "id": "_S8EEayAZeNE"
      }
    },
    {
      "cell_type": "code",
      "source": [
        "#pipeline ColumnTransformer\n",
        "numeric_transformer = Pipeline(steps=[\n",
        "('imputer', SimpleImputer(strategy='median')),\n",
        "('scaler', StandardScaler())\n",
        "])\n",
        "\n",
        "\n",
        "categorical_transformer = Pipeline(steps=[\n",
        "('imputer', SimpleImputer(strategy='most_frequent')),\n",
        "('onehot', OneHotEncoder(handle_unknown='ignore'))\n",
        "])\n",
        "\n",
        "\n",
        "preprocessor = ColumnTransformer(\n",
        "transformers=[\n",
        "('num', numeric_transformer, num_cols),\n",
        "('cat', categorical_transformer, cat_cols)\n",
        "]\n",
        ")"
      ],
      "metadata": {
        "id": "2Iu91k-1ZbRT"
      },
      "execution_count": 13,
      "outputs": []
    },
    {
      "cell_type": "code",
      "source": [
        "# Регрессионный пайплайн\n",
        "reg_pipeline = Pipeline(steps=[('preprocessor', preprocessor),\n",
        "('regressor', RandomForestRegressor(n_estimators=50, random_state=42))])\n",
        "\n",
        "\n",
        "# Классификационный пайплайн\n",
        "clf_pipeline = Pipeline(steps=[('preprocessor', preprocessor),\n",
        "('classifier', RandomForestClassifier(n_estimators=100, random_state=42))])"
      ],
      "metadata": {
        "id": "vjhrEe7MZmn9"
      },
      "execution_count": 14,
      "outputs": []
    },
    {
      "cell_type": "code",
      "source": [
        "median_price = df['price'].median()\n",
        "df['is_expensive'] = (df['price'] > median_price).astype(int)\n",
        "\n",
        "\n",
        "# train/test\n",
        "features = num_cols + cat_cols\n",
        "X = df[features]\n",
        "y_reg = df['price'].values\n",
        "y_clf = df['is_expensive'].values\n",
        "\n",
        "\n",
        "X_train_reg, X_test_reg, y_train_reg, y_test_reg = train_test_split(X, y_reg, test_size=0.2, random_state=42)\n",
        "X_train_clf, X_test_clf, y_train_clf, y_test_clf = train_test_split(X, y_clf, test_size=0.2, random_state=42)"
      ],
      "metadata": {
        "id": "LvyJ3sZqZwt1"
      },
      "execution_count": 15,
      "outputs": []
    },
    {
      "cell_type": "markdown",
      "source": [
        "# **Линейная регрессия**"
      ],
      "metadata": {
        "id": "K1LDvhx6Z6wQ"
      }
    },
    {
      "cell_type": "code",
      "source": [
        "linreg_pipe = Pipeline(steps=[('preprocessor', preprocessor), ('linreg', LinearRegression())])\n",
        "linreg_pipe.fit(X_train_reg, y_train_reg)\n",
        "\n",
        "y_pred_lin = linreg_pipe.predict(X_test_reg)\n",
        "print('\\nLinear Regression: RMSE=', rmse(y_test_reg, y_pred_lin), ' R2=', r2_score(y_test_reg, y_pred_lin))\n",
        "\n",
        "\n",
        "print('\\nПростейшая реализация градиентного спуска (скаляр) — для обучения понимания')\n",
        "\n",
        "gd_df = df[['age','distance_km']].dropna()\n",
        "X_gd = gd_df.values\n",
        "\n",
        "y_gd = df.loc[gd_df.index, 'price'].values.astype(float)\n",
        "\n",
        "\n",
        "Xg = (X_gd - np.mean(X_gd, axis=0)) / (np.std(X_gd, axis=0) + 1e-8)\n",
        "\n",
        "Xg = np.c_[np.ones(Xg.shape[0]), Xg]\n",
        "\n",
        "theta = np.zeros(Xg.shape[1])\n",
        "alpha = 0.01\n",
        "for i in range(1000):\n",
        "    pred = Xg.dot(theta)\n",
        "    grad = (1 / Xg.shape[0]) * Xg.T.dot(pred - y_gd)\n",
        "    theta = theta - alpha * grad\n",
        "\n",
        "print('Параметры (theta):', theta)\n"
      ],
      "metadata": {
        "colab": {
          "base_uri": "https://localhost:8080/"
        },
        "id": "IqpuMt6aZ6dD",
        "outputId": "a9c60dd7-2921-4beb-a553-0f3e4bd79e02"
      },
      "execution_count": 20,
      "outputs": [
        {
          "output_type": "stream",
          "name": "stdout",
          "text": [
            "\n",
            "Linear Regression: RMSE= 420068.36359982775  R2= 0.760123454756183\n",
            "\n",
            "Простейшая реализация градиентного спуска (скаляр) — для обучения понимания\n",
            "Параметры (theta): [ 994936.80256776 -385453.1445469   195613.18166328]\n"
          ]
        }
      ]
    },
    {
      "cell_type": "markdown",
      "source": [
        "# **Логистическая регрессия**"
      ],
      "metadata": {
        "id": "3o8NBKFbaKgJ"
      }
    },
    {
      "cell_type": "code",
      "source": [
        "log_pipe = Pipeline(steps=[('preprocessor', preprocessor), ('logist', LogisticRegression(max_iter=1000))])\n",
        "log_pipe.fit(X_train_clf, y_train_clf)\n",
        "\n",
        "\n",
        "y_pred_log = log_pipe.predict(X_test_clf)\n",
        "print('\\nLogistic Regression — classification report:')\n",
        "print(classification_report(y_test_clf, y_pred_log))"
      ],
      "metadata": {
        "colab": {
          "base_uri": "https://localhost:8080/"
        },
        "id": "SNj2H8c7aIFq",
        "outputId": "dfeb9b1f-874d-4446-f6db-a4397c4e27d2"
      },
      "execution_count": null,
      "outputs": [
        {
          "output_type": "stream",
          "name": "stdout",
          "text": [
            "\n",
            "Logistic Regression — classification report:\n",
            "              precision    recall  f1-score   support\n",
            "\n",
            "           0       0.72      0.82      0.77        22\n",
            "           1       0.84      0.75      0.79        28\n",
            "\n",
            "    accuracy                           0.78        50\n",
            "   macro avg       0.78      0.78      0.78        50\n",
            "weighted avg       0.79      0.78      0.78        50\n",
            "\n"
          ]
        }
      ]
    },
    {
      "cell_type": "markdown",
      "source": [
        "# **PCA**"
      ],
      "metadata": {
        "id": "o7gjBjtsaPVp"
      }
    },
    {
      "cell_type": "code",
      "source": [
        "num_for_pca = ['age','distance_km']\n",
        "X_num = df[num_for_pca].dropna()\n",
        "X_num_scaled = StandardScaler().fit_transform(X_num)\n",
        "\n",
        "\n",
        "pca = PCA(n_components=2)\n",
        "components = pca.fit_transform(X_num_scaled)\n",
        "print('\\nExplained variance ratio PCA:', pca.explained_variance_ratio_)\n",
        "\n",
        "\n",
        "plt.figure(figsize=(6,5))\n",
        "plt.scatter(components[:,0], components[:,1], alpha=0.5)\n",
        "plt.title('PCA по числовым признакам')\n",
        "plt.xlabel('PC1')\n",
        "plt.ylabel('PC2')\n",
        "plt.show()"
      ],
      "metadata": {
        "colab": {
          "base_uri": "https://localhost:8080/",
          "height": 531
        },
        "id": "07oIn6vgaO9y",
        "outputId": "f33d647e-b5fd-402f-caf4-e696de238bfb"
      },
      "execution_count": null,
      "outputs": [
        {
          "output_type": "stream",
          "name": "stdout",
          "text": [
            "\n",
            "Explained variance ratio PCA: [0.77140681 0.22859319]\n"
          ]
        },
        {
          "output_type": "display_data",
          "data": {
            "text/plain": [
              "<Figure size 600x500 with 1 Axes>"
            ],
            "image/png": "[encoded data removed]"
          },
          "metadata": {}
        }
      ]
    },
    {
      "cell_type": "markdown",
      "source": [
        "# **Байес**"
      ],
      "metadata": {
        "id": "79RUMVicaU9m"
      }
    },
    {
      "cell_type": "code",
      "source": [
        "from sklearn.preprocessing import FunctionTransformer\n",
        "\n",
        "nb_pipe = Pipeline(steps=[('preprocessor', preprocessor), ('to_dense', FunctionTransformer(lambda x: x.toarray(), accept_sparse=True)), ('nb', GaussianNB())])\n",
        "\n",
        "try:\n",
        "    nb_pipe.fit(X_train_clf, y_train_clf)\n",
        "    print('\\nNaive Bayes: accuracy on test =', nb_pipe.score(X_test_clf, y_test_clf))\n",
        "except Exception as e:\n",
        "    print('Naive Bayes не обучилась (возможно несовместимые типы после OneHot). Ошибка:', e)\n"
      ],
      "metadata": {
        "colab": {
          "base_uri": "https://localhost:8080/"
        },
        "id": "YPdW0ZgEaWCP",
        "outputId": "7eaae938-57bd-4a96-defa-f7eee2ddeebc"
      },
      "execution_count": 23,
      "outputs": [
        {
          "output_type": "stream",
          "name": "stdout",
          "text": [
            "\n",
            "Naive Bayes: accuracy on test = 0.6\n"
          ]
        }
      ]
    },
    {
      "cell_type": "markdown",
      "source": [
        "# **Random Forest**"
      ],
      "metadata": {
        "id": "3nMbvXc4aU4-"
      }
    },
    {
      "cell_type": "code",
      "source": [
        "\n",
        "rf = RandomForestRegressor(n_estimators=100, random_state=42)\n",
        "rf_pipe = Pipeline(steps=[('preprocessor', preprocessor), ('rf', rf)])\n",
        "rf_pipe.fit(X_train_reg, y_train_reg)\n",
        "\n",
        "#RMSE\n",
        "y_pred_rf = rf_pipe.predict(X_test_reg)\n",
        "mse = mean_squared_error(y_test_reg, y_pred_rf)\n",
        "rmse_val = np.sqrt(mse)\n",
        "print('\\nRandomForest regression RMSE=', rmse_val)\n"
      ],
      "metadata": {
        "colab": {
          "base_uri": "https://localhost:8080/"
        },
        "id": "BgJcJGe4apkJ",
        "outputId": "3ca82543-4727-4f92-8732-7c84971ea8bb"
      },
      "execution_count": 24,
      "outputs": [
        {
          "output_type": "stream",
          "name": "stdout",
          "text": [
            "\n",
            "RandomForest regression RMSE= 599172.614809687\n"
          ]
        }
      ]
    },
    {
      "cell_type": "markdown",
      "source": [
        "# **Support Vector Machine**"
      ],
      "metadata": {
        "id": "xplFVXaDaujH"
      }
    },
    {
      "cell_type": "code",
      "source": [
        "\n",
        "svr_pipe = Pipeline(steps=[('preprocessor', preprocessor), ('svr', SVR(kernel='rbf'))])\n",
        "svr_pipe.fit(X_train_reg, y_train_reg)\n",
        "\n",
        "\n",
        "y_pred_svr = svr_pipe.predict(X_test_reg)\n",
        "mse = mean_squared_error(y_test_reg, y_pred_svr)\n",
        "rmse_val = np.sqrt(mse)\n",
        "print('\\nSVR RMSE=', rmse_val)\n"
      ],
      "metadata": {
        "colab": {
          "base_uri": "https://localhost:8080/"
        },
        "id": "RoBpDSwQauNJ",
        "outputId": "c82a9435-8369-4f00-f03e-2d1753a906c2"
      },
      "execution_count": 25,
      "outputs": [
        {
          "output_type": "stream",
          "name": "stdout",
          "text": [
            "\n",
            "SVR RMSE= 951890.3272184326\n"
          ]
        }
      ]
    },
    {
      "cell_type": "markdown",
      "source": [
        "KMeans"
      ],
      "metadata": {
        "id": "p-ACU1R7RdM9"
      }
    },
    {
      "cell_type": "code",
      "source": [
        "kmeans = KMeans(n_clusters=4, random_state=42)\n",
        "km_features = df[num_for_pca].dropna()\n",
        "km_scaled = StandardScaler().fit_transform(km_features)\n",
        "km_labels = kmeans.fit_predict(km_scaled)\n",
        "plt.figure(figsize=(6,5))\n",
        "plt.scatter(km_scaled[:,0], km_scaled[:,1], c=km_labels, cmap='viridis', alpha=0.6)\n",
        "plt.title('KMeans кластеры')\n",
        "plt.show()"
      ],
      "metadata": {
        "colab": {
          "base_uri": "https://localhost:8080/",
          "height": 472
        },
        "id": "F5ZrPoqqRboj",
        "outputId": "2adbf122-3d72-4ebe-9cc0-dff4c62156a8"
      },
      "execution_count": 26,
      "outputs": [
        {
          "output_type": "display_data",
          "data": {
            "text/plain": [
              "<Figure size 600x500 with 1 Axes>"
            ],
            "image/png": "[encoded data removed]"
          },
          "metadata": {}
        }
      ]
    },
    {
      "cell_type": "markdown",
      "source": [
        "# **Outliers**"
      ],
      "metadata": {
        "id": "NaO67Hy6Rewc"
      }
    },
    {
      "cell_type": "code",
      "source": [
        "Q1 = df['price'].quantile(0.25)\n",
        "Q3 = df['price'].quantile(0.75)\n",
        "IQR = Q3 - Q1\n",
        "outliers_iqr = df[(df['price'] < Q1 - 1.5*IQR) | (df['price'] > Q3 + 1.5*IQR)]\n",
        "print('\\nКоличество выбросов по цене (IQR):', outliers_iqr.shape[0])\n",
        "\n",
        "# IsolationForest\n",
        "iso = IsolationForest(contamination=0.01, random_state=42)\n",
        "df_iso = df[['price','distance_km']].dropna()\n",
        "iso_pred = iso.fit_predict(df_iso)\n",
        "print('\\nПример меток IsolationForest (-1 = выброс):', np.unique(iso_pred))"
      ],
      "metadata": {
        "colab": {
          "base_uri": "https://localhost:8080/"
        },
        "id": "FkRHzgfVRkS9",
        "outputId": "f9e46e0f-6b79-47b2-916c-7d6f4d276631"
      },
      "execution_count": 27,
      "outputs": [
        {
          "output_type": "stream",
          "name": "stdout",
          "text": [
            "\n",
            "Количество выбросов по цене (IQR): 21\n",
            "\n",
            "Пример меток IsolationForest (-1 = выброс): [-1  1]\n"
          ]
        }
      ]
    },
    {
      "cell_type": "markdown",
      "source": [
        "# **Feature Selection**"
      ],
      "metadata": {
        "id": "FUBFKHLaRqFs"
      }
    },
    {
      "cell_type": "code",
      "source": [
        "X_reg_fs = preprocessor.fit_transform(X_train_reg)\n",
        "y_reg_fs = y_train_reg\n",
        "selector = SelectKBest(score_func=f_regression, k=min(5, X_reg_fs.shape[1]))\n",
        "selector.fit(X_reg_fs, y_reg_fs)\n",
        "print('\\nSelectKBest scores (top):', selector.scores_)\n",
        "\n",
        "\n",
        "feat_names_num = num_cols\n",
        "# one hot\n",
        "onehot_cols = preprocessor.named_transformers_['cat'].named_steps['onehot'].get_feature_names_out(cat_cols)\n",
        "feature_names = list(feat_names_num) + list(onehot_cols)\n",
        "importances = rf.feature_importances_\n",
        "feat_imp = pd.Series(importances, index=feature_names).sort_values(ascending=False).head(20)\n",
        "print('\\nFeature importances (top):')\n",
        "print(feat_imp)"
      ],
      "metadata": {
        "colab": {
          "base_uri": "https://localhost:8080/"
        },
        "id": "HO-E6nSWRnEf",
        "outputId": "268628a3-64cc-4b0d-f3d1-58cd2c7aefb1"
      },
      "execution_count": 30,
      "outputs": [
        {
          "output_type": "stream",
          "name": "stdout",
          "text": [
            "\n",
            "SelectKBest scores (top): [2.21211059e+01 1.06577591e-02 1.13769071e+00 6.60015940e+00\n",
            " 6.41888795e-01 7.48100846e+00 4.00968334e+01 2.37915132e+00\n",
            " 6.82535673e-04 1.31693322e+00 1.71798441e+00 4.88446872e-01\n",
            " 5.67553125e+01 6.18950574e+01 1.54145437e+00 6.57638573e+01\n",
            " 0.00000000e+00]\n",
            "\n",
            "Feature importances (top):\n",
            "distance_km                0.218911\n",
            "age                        0.217046\n",
            "brand_top_other            0.185888\n",
            "brand_top_Mercedes-Benz    0.158044\n",
            "fuel_type_Petrol           0.091616\n",
            "fuel_type_Diesel           0.069023\n",
            "brand_top_Mahindra         0.019390\n",
            "brand_top_Toyota           0.015817\n",
            "brand_top_Hyundai          0.009039\n",
            "brand_top_Skoda            0.005644\n",
            "brand_top_Maruti Suzuki    0.003211\n",
            "fuel_type_Hybrid           0.002159\n",
            "brand_top_Renault          0.002018\n",
            "brand_top_Honda            0.001644\n",
            "brand_top_Volkswagen       0.000322\n",
            "brand_top_Tata             0.000229\n",
            "city_Bangalore             0.000000\n",
            "dtype: float64\n"
          ]
        },
        {
          "output_type": "stream",
          "name": "stderr",
          "text": [
            "/usr/local/lib/python3.12/dist-packages/sklearn/feature_selection/_univariate_selection.py:381: RuntimeWarning: invalid value encountered in sqrt\n",
            "  X_norms = np.sqrt(row_norms(X.T, squared=True) - n_samples * X_means**2)\n"
          ]
        }
      ]
    },
    {
      "cell_type": "markdown",
      "source": [
        "# **Class balancing**"
      ],
      "metadata": {
        "id": "7CDyiF-ZRx2e"
      }
    },
    {
      "cell_type": "code",
      "source": [
        "if SMOTE is not None:\n",
        "    print('\\nSMOTE установлен, демонстрация баланса классов')\n",
        "    X_res, y_res = SMOTE(random_state=42).fit_resample(preprocessor.fit_transform(X_train_clf), y_train_clf)\n",
        "    print('До SMOTE:', np.bincount(y_train_clf), 'После SMOTE:', np.bincount(y_res))\n",
        "else:\n",
        "    print('\\nSMOTE не установлен — установите imbalanced-learn через pip.')\n",
        "\n",
        "\n",
        "clf_weighted = Pipeline(steps=[('preprocessor', preprocessor), ('clf', RandomForestClassifier(class_weight='balanced', random_state=42))])\n",
        "clf_weighted.fit(X_train_clf, y_train_clf)\n",
        "print('\\nRandomForest (class_weight=balanced) accuracy:', clf_weighted.score(X_test_clf, y_test_clf))"
      ],
      "metadata": {
        "colab": {
          "base_uri": "https://localhost:8080/"
        },
        "id": "DS4NnoxlR0g_",
        "outputId": "cfb9c326-b1ac-4e43-802a-0ecfd34ffbae"
      },
      "execution_count": 32,
      "outputs": [
        {
          "output_type": "stream",
          "name": "stdout",
          "text": [
            "\n",
            "SMOTE установлен, демонстрация баланса классов\n",
            "До SMOTE: [108  89] После SMOTE: [108 108]\n",
            "\n",
            "RandomForest (class_weight=balanced) accuracy: 0.82\n"
          ]
        }
      ]
    },
    {
      "cell_type": "markdown",
      "source": [
        "# **Hyperparameter tuning**"
      ],
      "metadata": {
        "id": "FA0sioIOR5mh"
      }
    },
    {
      "cell_type": "code",
      "source": [
        "param_grid = {\n",
        "    'rf__n_estimators': [50, 100],\n",
        "    'rf__max_depth': [None, 10, 20]\n",
        "}\n",
        "search = GridSearchCV(rf_pipe, param_grid, cv=3, scoring='neg_root_mean_squared_error', n_jobs=-1)\n",
        "search.fit(X_train_reg, y_train_reg)\n",
        "print('\\nЛучшие параметры (RF reg):', search.best_params_)\n",
        "print('Лучшее CV score:', search.best_score_)\n",
        "\n",
        "# Random SVM\n",
        "param_dist = {\n",
        "    'svr__C': [0.1,1,10],\n",
        "    'svr__epsilon': [0.1, 0.2, 0.5]\n",
        "}\n",
        "search2 = RandomizedSearchCV(svr_pipe, param_distributions=param_dist, n_iter=4, cv=3, n_jobs=-1, random_state=42)\n",
        "search2.fit(X_train_reg, y_train_reg)\n",
        "print('\\nЛучшие параметры (SVR):', search2.best_params_)"
      ],
      "metadata": {
        "colab": {
          "base_uri": "https://localhost:8080/"
        },
        "id": "NqLgKbUHR5Yr",
        "outputId": "60707e8e-7e06-407e-f938-9698301690bf"
      },
      "execution_count": 33,
      "outputs": [
        {
          "output_type": "stream",
          "name": "stdout",
          "text": [
            "\n",
            "Лучшие параметры (RF reg): {'rf__max_depth': 10, 'rf__n_estimators': 50}\n",
            "Лучшее CV score: -629825.8070469772\n",
            "\n",
            "Лучшие параметры (SVR): {'svr__epsilon': 0.2, 'svr__C': 10}\n"
          ]
        }
      ]
    },
    {
      "cell_type": "markdown",
      "source": [
        "# **GMM**"
      ],
      "metadata": {
        "id": "Q0QzrfunSCM3"
      }
    },
    {
      "cell_type": "code",
      "source": [
        "gmm = GaussianMixture(n_components=3, random_state=42)\n",
        "X_gmm = km_scaled\n",
        "gmm.fit(X_gmm)\n",
        "labels_gmm = gmm.predict(X_gmm)\n",
        "print('\\nGMM convergence:', gmm.converged_)\n",
        "\n",
        "# первыe 5 точек\n",
        "print('Responsibilities (first 5):')\n",
        "print(gmm.predict_proba(X_gmm)[:5])"
      ],
      "metadata": {
        "colab": {
          "base_uri": "https://localhost:8080/"
        },
        "id": "-CtWBm--SDBI",
        "outputId": "43a954b6-a80f-44ed-aefe-9c4f38bc4d87"
      },
      "execution_count": 34,
      "outputs": [
        {
          "output_type": "stream",
          "name": "stdout",
          "text": [
            "\n",
            "GMM convergence: True\n",
            "Responsibilities (first 5):\n",
            "[[2.79062620e-03 3.92492418e-02 9.57960132e-01]\n",
            " [3.02185174e-02 1.20720633e-02 9.57709419e-01]\n",
            " [9.10983862e-13 9.99998585e-01 1.41468000e-06]\n",
            " [2.43009016e-06 9.78085763e-01 2.19118070e-02]\n",
            " [7.08481314e-01 5.33059146e-03 2.86188094e-01]]\n"
          ]
        }
      ]
    },
    {
      "cell_type": "code",
      "source": [
        "pip install lime"
      ],
      "metadata": {
        "colab": {
          "base_uri": "https://localhost:8080/"
        },
        "id": "vxTs8r80Tlia",
        "outputId": "be4e57b3-2dad-4a13-ac9b-2a2fec7ed4c9"
      },
      "execution_count": 40,
      "outputs": [
        {
          "output_type": "stream",
          "name": "stdout",
          "text": [
            "Collecting lime\n",
            "  Downloading lime-0.2.0.1.tar.gz (275 kB)\n",
            "\u001b[?25l     \u001b[90m━━━━━━━━━━━━━━━━━━━━━━━━━━━━━━━━━━━━━━━━\u001b[0m \u001b[32m0.0/275.7 kB\u001b[0m \u001b[31m?\u001b[0m eta \u001b[36m-:--:--\u001b[0m\r\u001b[2K     \u001b[91m━━━━━━━━━━━━━━━━━━━━━━━━━━━━━━━━━━━━━\u001b[0m\u001b[91m╸\u001b[0m\u001b[90m━\u001b[0m \u001b[32m266.2/275.7 kB\u001b[0m \u001b[31m8.4 MB/s\u001b[0m eta \u001b[36m0:00:01\u001b[0m\r\u001b[2K     \u001b[90m━━━━━━━━━━━━━━━━━━━━━━━━━━━━━━━━━━━━━━━\u001b[0m \u001b[32m275.7/275.7 kB\u001b[0m \u001b[31m6.2 MB/s\u001b[0m eta \u001b[36m0:00:00\u001b[0m\n",
            "\u001b[?25h  Preparing metadata (setup.py) ... \u001b[?25l\u001b[?25hdone\n",
            "Requirement already satisfied: matplotlib in /usr/local/lib/python3.12/dist-packages (from lime) (3.10.0)\n",
            "Requirement already satisfied: numpy in /usr/local/lib/python3.12/dist-packages (from lime) (2.0.2)\n",
            "Requirement already satisfied: scipy in /usr/local/lib/python3.12/dist-packages (from lime) (1.16.1)\n",
            "Requirement already satisfied: tqdm in /usr/local/lib/python3.12/dist-packages (from lime) (4.67.1)\n",
            "Requirement already satisfied: scikit-learn>=0.18 in /usr/local/lib/python3.12/dist-packages (from lime) (1.6.1)\n",
            "Requirement already satisfied: scikit-image>=0.12 in /usr/local/lib/python3.12/dist-packages (from lime) (0.25.2)\n",
            "Requirement already satisfied: networkx>=3.0 in /usr/local/lib/python3.12/dist-packages (from scikit-image>=0.12->lime) (3.5)\n",
            "Requirement already satisfied: pillow>=10.1 in /usr/local/lib/python3.12/dist-packages (from scikit-image>=0.12->lime) (11.3.0)\n",
            "Requirement already satisfied: imageio!=2.35.0,>=2.33 in /usr/local/lib/python3.12/dist-packages (from scikit-image>=0.12->lime) (2.37.0)\n",
            "Requirement already satisfied: tifffile>=2022.8.12 in /usr/local/lib/python3.12/dist-packages (from scikit-image>=0.12->lime) (2025.6.11)\n",
            "Requirement already satisfied: packaging>=21 in /usr/local/lib/python3.12/dist-packages (from scikit-image>=0.12->lime) (25.0)\n",
            "Requirement already satisfied: lazy-loader>=0.4 in /usr/local/lib/python3.12/dist-packages (from scikit-image>=0.12->lime) (0.4)\n",
            "Requirement already satisfied: joblib>=1.2.0 in /usr/local/lib/python3.12/dist-packages (from scikit-learn>=0.18->lime) (1.5.1)\n",
            "Requirement already satisfied: threadpoolctl>=3.1.0 in /usr/local/lib/python3.12/dist-packages (from scikit-learn>=0.18->lime) (3.6.0)\n",
            "Requirement already satisfied: contourpy>=1.0.1 in /usr/local/lib/python3.12/dist-packages (from matplotlib->lime) (1.3.3)\n",
            "Requirement already satisfied: cycler>=0.10 in /usr/local/lib/python3.12/dist-packages (from matplotlib->lime) (0.12.1)\n",
            "Requirement already satisfied: fonttools>=4.22.0 in /usr/local/lib/python3.12/dist-packages (from matplotlib->lime) (4.59.1)\n",
            "Requirement already satisfied: kiwisolver>=1.3.1 in /usr/local/lib/python3.12/dist-packages (from matplotlib->lime) (1.4.9)\n",
            "Requirement already satisfied: pyparsing>=2.3.1 in /usr/local/lib/python3.12/dist-packages (from matplotlib->lime) (3.2.3)\n",
            "Requirement already satisfied: python-dateutil>=2.7 in /usr/local/lib/python3.12/dist-packages (from matplotlib->lime) (2.9.0.post0)\n",
            "Requirement already satisfied: six>=1.5 in /usr/local/lib/python3.12/dist-packages (from python-dateutil>=2.7->matplotlib->lime) (1.17.0)\n",
            "Building wheels for collected packages: lime\n",
            "  Building wheel for lime (setup.py) ... \u001b[?25l\u001b[?25hdone\n",
            "  Created wheel for lime: filename=lime-0.2.0.1-py3-none-any.whl size=283834 sha256=9af4794ca66dda7094573a5ae3d64e8162ffaa57fa896d253ede56e72135befe\n",
            "  Stored in directory: /root/.cache/pip/wheels/e7/5d/0e/4b4fff9a47468fed5633211fb3b76d1db43fe806a17fb7486a\n",
            "Successfully built lime\n",
            "Installing collected packages: lime\n",
            "Successfully installed lime-0.2.0.1\n"
          ]
        }
      ]
    },
    {
      "cell_type": "code",
      "source": [
        "import lime\n",
        "import lime.lime_tabular\n",
        "\n",
        "\n",
        "X_train_for_lime = preprocessor.fit_transform(X_train_reg)\n",
        "lime_exp = lime.lime_tabular.LimeTabularExplainer(\n",
        "    X_train_for_lime,\n",
        "    feature_names=feature_names,\n",
        "    class_names=['price'],\n",
        "    discretize_continuous=True\n",
        ")\n",
        "print('LIME ready — можно объяснять отдельные предсказания.')\n"
      ],
      "metadata": {
        "colab": {
          "base_uri": "https://localhost:8080/"
        },
        "id": "w3F7czVoSmJH",
        "outputId": "c5456577-cc6e-4ebe-cae3-e722e6778dcf"
      },
      "execution_count": 43,
      "outputs": [
        {
          "output_type": "stream",
          "name": "stdout",
          "text": [
            "LIME ready — можно объяснять отдельные предсказания.\n"
          ]
        }
      ]
    },
    {
      "cell_type": "code",
      "source": [
        "plt.figure(figsize=(8,6))\n",
        "sns.heatmap(df[['price','age','distance_km']].corr(), annot=True, fmt='.2f')\n",
        "plt.title('Корреляции')\n",
        "plt.show()\n",
        "\n",
        "# Различия цен по городам\n",
        "plt.figure(figsize=(12,6))\n",
        "order = df.groupby('city')['price'].median().sort_values(ascending=False).index\n",
        "sns.boxplot(data=df, x='city', y='price', order=order)\n",
        "plt.xticks(rotation=45)\n",
        "plt.title('Цена по городам (Boxplot)')\n",
        "plt.show()"
      ],
      "metadata": {
        "colab": {
          "base_uri": "https://localhost:8080/",
          "height": 1000
        },
        "id": "IZMTSen6SygN",
        "outputId": "206c6a09-1de8-44ee-e354-418437505764"
      },
      "execution_count": 42,
      "outputs": [
        {
          "output_type": "display_data",
          "data": {
            "text/plain": [
              "<Figure size 800x600 with 2 Axes>"
            ],
            "image/png": "[encoded data removed]"
          },
          "metadata": {}
        },
        {
          "output_type": "display_data",
          "data": {
            "text/plain": [
              "<Figure size 1200x600 with 1 Axes>"
            ],
            "image/png": "[encoded data removed]"
          },
          "metadata": {}
        }
      ]
    },
    {
      "cell_type": "code",
      "source": [
        "import joblib\n",
        "joblib.dump(rf_pipe, 'rf_price_pipeline.joblib')\n",
        "print('\\nСохранён rf_price_pipeline.joblib')"
      ],
      "metadata": {
        "colab": {
          "base_uri": "https://localhost:8080/"
        },
        "id": "yCBDJiXcS2tp",
        "outputId": "e26c2adf-fa97-4882-e999-82be21ba30d7"
      },
      "execution_count": 44,
      "outputs": [
        {
          "output_type": "stream",
          "name": "stdout",
          "text": [
            "\n",
            "Сохранён rf_price_pipeline.joblib\n"
          ]
        }
      ]
    },
    {
      "cell_type": "code",
      "source": [
        "with open('streamlit_app.py','w') as f:\n",
        "    f.write(streamlit_code)\n",
        "print('\\nStreamlit demo saved to streamlit_app.py — откройте/скорректируйте список брендов и запустите локально.')\n"
      ],
      "metadata": {
        "colab": {
          "base_uri": "https://localhost:8080/"
        },
        "id": "_PLvP783THlN",
        "outputId": "604c9283-8447-4e37-e9e4-8714d8880ff7"
      },
      "execution_count": 45,
      "outputs": [
        {
          "output_type": "stream",
          "name": "stdout",
          "text": [
            "\n",
            "Streamlit demo saved to streamlit_app.py — откройте/скорректируйте список брендов и запустите локально.\n"
          ]
        }
      ]
    },
    {
      "cell_type": "code",
      "source": [
        "!pip install -q streamlit pyngrok"
      ],
      "metadata": {
        "colab": {
          "base_uri": "https://localhost:8080/"
        },
        "id": "vokLn2jjVFoP",
        "outputId": "547d199e-7be0-4a29-ed6f-8c476109d193"
      },
      "execution_count": 48,
      "outputs": [
        {
          "output_type": "stream",
          "name": "stdout",
          "text": [
            "\u001b[2K   \u001b[90m━━━━━━━━━━━━━━━━━━━━━━━━━━━━━━━━━━━━━━━━\u001b[0m \u001b[32m10.0/10.0 MB\u001b[0m \u001b[31m59.2 MB/s\u001b[0m eta \u001b[36m0:00:00\u001b[0m\n",
            "\u001b[2K   \u001b[90m━━━━━━━━━━━━━━━━━━━━━━━━━━━━━━━━━━━━━━━━\u001b[0m \u001b[32m6.9/6.9 MB\u001b[0m \u001b[31m68.3 MB/s\u001b[0m eta \u001b[36m0:00:00\u001b[0m\n",
            "\u001b[?25h"
          ]
        }
      ]
    },
    {
      "cell_type": "code",
      "source": [
        "#ngrok config add-authtoken 3205bJj6KGq4r2QrNSNfPpX3bLg_85QqNTDWCwtcS3nckQD9S"
      ],
      "metadata": {
        "id": "fM--ZzNAVVug"
      },
      "execution_count": 53,
      "outputs": []
    },
    {
      "cell_type": "code",
      "source": [
        "from pyngrok import ngrok\n",
        "ngrok.set_auth_token(\"3205bJj6KGq4r2QrNSNfPpX3bLg_85QqNTDWCwtcS3nckQD9S\")"
      ],
      "metadata": {
        "id": "coTYbghSVD7L"
      },
      "execution_count": 52,
      "outputs": []
    },
    {
      "cell_type": "code",
      "source": [
        "public_url = ngrok.connect(8501)\n",
        "print(\"Streamlit доступен по ссылке:\", public_url)\n"
      ],
      "metadata": {
        "colab": {
          "base_uri": "https://localhost:8080/"
        },
        "id": "BSY_3_8tVm5Y",
        "outputId": "4d5a9077-ed38-4cc6-cc10-eef1a46b9b20"
      },
      "execution_count": 54,
      "outputs": [
        {
          "output_type": "stream",
          "name": "stdout",
          "text": [
            "Streamlit доступен по ссылке: NgrokTunnel: \"https://1c8ffafe7901.ngrok-free.app\" -> \"http://localhost:8501\"\n"
          ]
        }
      ]
    },
    {
      "cell_type": "code",
      "source": [
        "import os\n",
        "os.system(\"nohup streamlit run streamlit_app.py --server.port 8501 &\")\n"
      ],
      "metadata": {
        "colab": {
          "base_uri": "https://localhost:8080/"
        },
        "id": "xeekagk3Vo-4",
        "outputId": "35df06d1-aa06-4e59-8505-82b0ab183091"
      },
      "execution_count": 55,
      "outputs": [
        {
          "output_type": "execute_result",
          "data": {
            "text/plain": [
              "0"
            ]
          },
          "metadata": {},
          "execution_count": 55
        }
      ]
    }
  ]
}